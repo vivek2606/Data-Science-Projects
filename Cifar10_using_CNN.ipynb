{
  "nbformat": 4,
  "nbformat_minor": 0,
  "metadata": {
    "colab": {
      "name": "Cifar10 using CNN.ipynb",
      "provenance": [],
      "authorship_tag": "ABX9TyOgQb9SzyhJrUNHetpRvMlL",
      "include_colab_link": true
    },
    "kernelspec": {
      "name": "python3",
      "display_name": "Python 3"
    },
    "accelerator": "GPU"
  },
  "cells": [
    {
      "cell_type": "markdown",
      "metadata": {
        "id": "view-in-github",
        "colab_type": "text"
      },
      "source": [
        "<a href=\"https://colab.research.google.com/github/vivek2606/Data-Science-Projects/blob/master/Cifar10_using_CNN.ipynb\" target=\"_parent\"><img src=\"https://colab.research.google.com/assets/colab-badge.svg\" alt=\"Open In Colab\"/></a>"
      ]
    },
    {
      "cell_type": "code",
      "metadata": {
        "id": "LZPFzyBK3fOc",
        "colab_type": "code",
        "colab": {
          "base_uri": "https://localhost:8080/",
          "height": 80
        },
        "outputId": "c3508e99-239b-41ad-d6eb-ce95ce6c38a9"
      },
      "source": [
        "# import libraries\n",
        "from __future__ import print_function\n",
        "import keras\n",
        "from keras.datasets import cifar10\n",
        "from keras.preprocessing.image import ImageDataGenerator\n",
        "from keras.models import Sequential\n",
        "from keras.layers import Dense, Dropout, Activation, Flatten\n",
        "from keras.layers import Conv2D, MaxPooling2D\n",
        "import numpy as np\n",
        "import os\n",
        "import matplotlib.pyplot as plt\n",
        "%matplotlib inline"
      ],
      "execution_count": 2,
      "outputs": [
        {
          "output_type": "stream",
          "text": [
            "Using TensorFlow backend.\n"
          ],
          "name": "stderr"
        },
        {
          "output_type": "display_data",
          "data": {
            "text/html": [
              "<p style=\"color: red;\">\n",
              "The default version of TensorFlow in Colab will soon switch to TensorFlow 2.x.<br>\n",
              "We recommend you <a href=\"https://www.tensorflow.org/guide/migrate\" target=\"_blank\">upgrade</a> now \n",
              "or ensure your notebook will continue to use TensorFlow 1.x via the <code>%tensorflow_version 1.x</code> magic:\n",
              "<a href=\"https://colab.research.google.com/notebooks/tensorflow_version.ipynb\" target=\"_blank\">more info</a>.</p>\n"
            ],
            "text/plain": [
              "<IPython.core.display.HTML object>"
            ]
          },
          "metadata": {
            "tags": []
          }
        }
      ]
    },
    {
      "cell_type": "code",
      "metadata": {
        "id": "MYs68TnF3j5C",
        "colab_type": "code",
        "colab": {}
      },
      "source": [
        "# batch, classes, epochs\n",
        "batch_size = 32\n",
        "num_classes = 10\n",
        "epochs = 50"
      ],
      "execution_count": 0,
      "outputs": []
    },
    {
      "cell_type": "code",
      "metadata": {
        "id": "tZoDVBED3w45",
        "colab_type": "code",
        "colab": {
          "base_uri": "https://localhost:8080/",
          "height": 102
        },
        "outputId": "c78c7960-bb02-4919-cdd9-644016280f2a"
      },
      "source": [
        "# The data, split between train and test sets:\n",
        "(x_train, y_train), (x_test, y_test) = cifar10.load_data()\n",
        "print('x_train shape:', x_train.shape)\n",
        "print(x_train.shape[0], 'train samples')\n",
        "print(x_test.shape[0], 'test samples')"
      ],
      "execution_count": 4,
      "outputs": [
        {
          "output_type": "stream",
          "text": [
            "Downloading data from https://www.cs.toronto.edu/~kriz/cifar-10-python.tar.gz\n",
            "170500096/170498071 [==============================] - 6s 0us/step\n",
            "x_train shape: (50000, 32, 32, 3)\n",
            "50000 train samples\n",
            "10000 test samples\n"
          ],
          "name": "stdout"
        }
      ]
    },
    {
      "cell_type": "code",
      "metadata": {
        "id": "Qe_MFe_830GF",
        "colab_type": "code",
        "colab": {
          "base_uri": "https://localhost:8080/",
          "height": 213
        },
        "outputId": "59a1a6e5-f08e-408c-f692-2c98c234c5be"
      },
      "source": [
        "# plotting some random 10 images\n",
        "class_names = ['airplane','automobile','bird','cat','deer',\n",
        "               'dog','frog','horse','ship','truck']\n",
        "\n",
        "fig = plt.figure(figsize=(8,3))\n",
        "for i in range(num_classes):\n",
        "    ax = fig.add_subplot(2, 5, 1 + i, xticks=[], yticks=[])\n",
        "    idx = np.where(y_train[:]==i)[0]\n",
        "    features_idx = x_train[idx,::]\n",
        "    img_num = np.random.randint(features_idx.shape[0])\n",
        "    im = (features_idx[img_num,::])\n",
        "    ax.set_title(class_names[i])\n",
        "    plt.imshow(im)\n",
        "plt.show()"
      ],
      "execution_count": 5,
      "outputs": [
        {
          "output_type": "display_data",
          "data": {
            "image/png": "[encoded data removed]",
            "text/plain": [
              "<Figure size 576x216 with 10 Axes>"
            ]
          },
          "metadata": {
            "tags": []
          }
        }
      ]
    },
    {
      "cell_type": "code",
      "metadata": {
        "id": "M-XWxa953709",
        "colab_type": "code",
        "colab": {}
      },
      "source": [
        "# Convert class vectors to binary class matrices.\n",
        "y_train = keras.utils.to_categorical(y_train, num_classes)\n",
        "y_test = keras.utils.to_categorical(y_test, num_classes)"
      ],
      "execution_count": 0,
      "outputs": []
    },
    {
      "cell_type": "code",
      "metadata": {
        "id": "OIU8lti14Al9",
        "colab_type": "code",
        "colab": {
          "base_uri": "https://localhost:8080/",
          "height": 258
        },
        "outputId": "ab234cfc-619e-47cc-b17f-d2e669012d55"
      },
      "source": [
        "# model architecture\n",
        "model = Sequential()\n",
        "model.add(Conv2D(32, (3, 3), padding='same',\n",
        "                 input_shape=x_train.shape[1:]))\n",
        "model.add(Activation('relu'))\n",
        "model.add(Conv2D(32, (3, 3)))\n",
        "model.add(Activation('relu'))\n",
        "model.add(MaxPooling2D(pool_size=(2, 2)))\n",
        "model.add(Dropout(0.25))\n",
        "\n",
        "model.add(Conv2D(64, (3, 3), padding='same'))\n",
        "model.add(Activation('relu'))\n",
        "model.add(Conv2D(64, (3, 3)))\n",
        "model.add(Activation('relu'))\n",
        "model.add(MaxPooling2D(pool_size=(2, 2)))\n",
        "model.add(Dropout(0.25))\n",
        "\n",
        "model.add(Flatten())\n",
        "model.add(Dense(512))\n",
        "model.add(Activation('relu'))\n",
        "model.add(Dropout(0.5))\n",
        "model.add(Dense(num_classes))\n",
        "model.add(Activation('softmax'))"
      ],
      "execution_count": 7,
      "outputs": [
        {
          "output_type": "stream",
          "text": [
            "WARNING:tensorflow:From /usr/local/lib/python3.6/dist-packages/keras/backend/tensorflow_backend.py:66: The name tf.get_default_graph is deprecated. Please use tf.compat.v1.get_default_graph instead.\n",
            "\n",
            "WARNING:tensorflow:From /usr/local/lib/python3.6/dist-packages/keras/backend/tensorflow_backend.py:541: The name tf.placeholder is deprecated. Please use tf.compat.v1.placeholder instead.\n",
            "\n",
            "WARNING:tensorflow:From /usr/local/lib/python3.6/dist-packages/keras/backend/tensorflow_backend.py:4432: The name tf.random_uniform is deprecated. Please use tf.random.uniform instead.\n",
            "\n",
            "WARNING:tensorflow:From /usr/local/lib/python3.6/dist-packages/keras/backend/tensorflow_backend.py:4267: The name tf.nn.max_pool is deprecated. Please use tf.nn.max_pool2d instead.\n",
            "\n",
            "WARNING:tensorflow:From /usr/local/lib/python3.6/dist-packages/keras/backend/tensorflow_backend.py:148: The name tf.placeholder_with_default is deprecated. Please use tf.compat.v1.placeholder_with_default instead.\n",
            "\n",
            "WARNING:tensorflow:From /usr/local/lib/python3.6/dist-packages/keras/backend/tensorflow_backend.py:3733: calling dropout (from tensorflow.python.ops.nn_ops) with keep_prob is deprecated and will be removed in a future version.\n",
            "Instructions for updating:\n",
            "Please use `rate` instead of `keep_prob`. Rate should be set to `rate = 1 - keep_prob`.\n"
          ],
          "name": "stdout"
        }
      ]
    },
    {
      "cell_type": "code",
      "metadata": {
        "id": "dOrzU1tF4GO_",
        "colab_type": "code",
        "colab": {
          "base_uri": "https://localhost:8080/",
          "height": 765
        },
        "outputId": "a8d31e5d-9e77-4366-b35a-447bf5f6da5c"
      },
      "source": [
        "# summary\n",
        "model.summary()"
      ],
      "execution_count": 8,
      "outputs": [
        {
          "output_type": "stream",
          "text": [
            "Model: \"sequential_1\"\n",
            "_________________________________________________________________\n",
            "Layer (type)                 Output Shape              Param #   \n",
            "=================================================================\n",
            "conv2d_1 (Conv2D)            (None, 32, 32, 32)        896       \n",
            "_________________________________________________________________\n",
            "activation_1 (Activation)    (None, 32, 32, 32)        0         \n",
            "_________________________________________________________________\n",
            "conv2d_2 (Conv2D)            (None, 30, 30, 32)        9248      \n",
            "_________________________________________________________________\n",
            "activation_2 (Activation)    (None, 30, 30, 32)        0         \n",
            "_________________________________________________________________\n",
            "max_pooling2d_1 (MaxPooling2 (None, 15, 15, 32)        0         \n",
            "_________________________________________________________________\n",
            "dropout_1 (Dropout)          (None, 15, 15, 32)        0         \n",
            "_________________________________________________________________\n",
            "conv2d_3 (Conv2D)            (None, 15, 15, 64)        18496     \n",
            "_________________________________________________________________\n",
            "activation_3 (Activation)    (None, 15, 15, 64)        0         \n",
            "_________________________________________________________________\n",
            "conv2d_4 (Conv2D)            (None, 13, 13, 64)        36928     \n",
            "_________________________________________________________________\n",
            "activation_4 (Activation)    (None, 13, 13, 64)        0         \n",
            "_________________________________________________________________\n",
            "max_pooling2d_2 (MaxPooling2 (None, 6, 6, 64)          0         \n",
            "_________________________________________________________________\n",
            "dropout_2 (Dropout)          (None, 6, 6, 64)          0         \n",
            "_________________________________________________________________\n",
            "flatten_1 (Flatten)          (None, 2304)              0         \n",
            "_________________________________________________________________\n",
            "dense_1 (Dense)              (None, 512)               1180160   \n",
            "_________________________________________________________________\n",
            "activation_5 (Activation)    (None, 512)               0         \n",
            "_________________________________________________________________\n",
            "dropout_3 (Dropout)          (None, 512)               0         \n",
            "_________________________________________________________________\n",
            "dense_2 (Dense)              (None, 10)                5130      \n",
            "_________________________________________________________________\n",
            "activation_6 (Activation)    (None, 10)                0         \n",
            "=================================================================\n",
            "Total params: 1,250,858\n",
            "Trainable params: 1,250,858\n",
            "Non-trainable params: 0\n",
            "_________________________________________________________________\n"
          ],
          "name": "stdout"
        }
      ]
    },
    {
      "cell_type": "code",
      "metadata": {
        "id": "-kQau2eq4Lnq",
        "colab_type": "code",
        "colab": {
          "base_uri": "https://localhost:8080/",
          "height": 105
        },
        "outputId": "b8ef87bf-1707-4436-9fa6-26b77a06c30e"
      },
      "source": [
        "# compile the model\n",
        "model.compile(loss='categorical_crossentropy',\n",
        "              optimizer='sgd',\n",
        "              metrics=['accuracy'])\n",
        "\n",
        "# convert to float, normalise the data\n",
        "x_train = x_train.astype('float32')\n",
        "x_test = x_test.astype('float32')\n",
        "x_train /= 255\n",
        "x_test /= 255"
      ],
      "execution_count": 9,
      "outputs": [
        {
          "output_type": "stream",
          "text": [
            "WARNING:tensorflow:From /usr/local/lib/python3.6/dist-packages/keras/optimizers.py:793: The name tf.train.Optimizer is deprecated. Please use tf.compat.v1.train.Optimizer instead.\n",
            "\n",
            "WARNING:tensorflow:From /usr/local/lib/python3.6/dist-packages/keras/backend/tensorflow_backend.py:3576: The name tf.log is deprecated. Please use tf.math.log instead.\n",
            "\n"
          ],
          "name": "stdout"
        }
      ]
    },
    {
      "cell_type": "code",
      "metadata": {
        "id": "B1Lf9f4V4U8x",
        "colab_type": "code",
        "colab": {
          "base_uri": "https://localhost:8080/",
          "height": 1000
        },
        "outputId": "57ede2b8-09ec-4b02-f2a7-c0f684754865"
      },
      "source": [
        "# train \n",
        "model.fit(x_train, y_train,\n",
        "              batch_size=batch_size,\n",
        "              epochs=epochs,\n",
        "              validation_data=(x_test, y_test),\n",
        "              shuffle=True)"
      ],
      "execution_count": 10,
      "outputs": [
        {
          "output_type": "stream",
          "text": [
            "WARNING:tensorflow:From /usr/local/lib/python3.6/dist-packages/tensorflow_core/python/ops/math_grad.py:1424: where (from tensorflow.python.ops.array_ops) is deprecated and will be removed in a future version.\n",
            "Instructions for updating:\n",
            "Use tf.where in 2.0, which has the same broadcast rule as np.where\n",
            "WARNING:tensorflow:From /usr/local/lib/python3.6/dist-packages/keras/backend/tensorflow_backend.py:1033: The name tf.assign_add is deprecated. Please use tf.compat.v1.assign_add instead.\n",
            "\n",
            "WARNING:tensorflow:From /usr/local/lib/python3.6/dist-packages/keras/backend/tensorflow_backend.py:1020: The name tf.assign is deprecated. Please use tf.compat.v1.assign instead.\n",
            "\n",
            "WARNING:tensorflow:From /usr/local/lib/python3.6/dist-packages/keras/backend/tensorflow_backend.py:3005: The name tf.Session is deprecated. Please use tf.compat.v1.Session instead.\n",
            "\n",
            "Train on 50000 samples, validate on 10000 samples\n",
            "Epoch 1/50\n",
            "WARNING:tensorflow:From /usr/local/lib/python3.6/dist-packages/keras/backend/tensorflow_backend.py:190: The name tf.get_default_session is deprecated. Please use tf.compat.v1.get_default_session instead.\n",
            "\n",
            "WARNING:tensorflow:From /usr/local/lib/python3.6/dist-packages/keras/backend/tensorflow_backend.py:197: The name tf.ConfigProto is deprecated. Please use tf.compat.v1.ConfigProto instead.\n",
            "\n",
            "WARNING:tensorflow:From /usr/local/lib/python3.6/dist-packages/keras/backend/tensorflow_backend.py:207: The name tf.global_variables is deprecated. Please use tf.compat.v1.global_variables instead.\n",
            "\n",
            "WARNING:tensorflow:From /usr/local/lib/python3.6/dist-packages/keras/backend/tensorflow_backend.py:216: The name tf.is_variable_initialized is deprecated. Please use tf.compat.v1.is_variable_initialized instead.\n",
            "\n",
            "WARNING:tensorflow:From /usr/local/lib/python3.6/dist-packages/keras/backend/tensorflow_backend.py:223: The name tf.variables_initializer is deprecated. Please use tf.compat.v1.variables_initializer instead.\n",
            "\n",
            "50000/50000 [==============================] - 25s 506us/step - loss: 2.1007 - acc: 0.2203 - val_loss: 1.8319 - val_acc: 0.3622\n",
            "Epoch 2/50\n",
            "50000/50000 [==============================] - 10s 196us/step - loss: 1.7812 - acc: 0.3540 - val_loss: 1.7308 - val_acc: 0.3613\n",
            "Epoch 3/50\n",
            "50000/50000 [==============================] - 10s 196us/step - loss: 1.6065 - acc: 0.4132 - val_loss: 1.5159 - val_acc: 0.4540\n",
            "Epoch 4/50\n",
            "50000/50000 [==============================] - 10s 196us/step - loss: 1.4950 - acc: 0.4531 - val_loss: 1.3739 - val_acc: 0.5052\n",
            "Epoch 5/50\n",
            "50000/50000 [==============================] - 10s 197us/step - loss: 1.4013 - acc: 0.4905 - val_loss: 1.3607 - val_acc: 0.5179\n",
            "Epoch 6/50\n",
            "50000/50000 [==============================] - 10s 195us/step - loss: 1.3367 - acc: 0.5205 - val_loss: 1.2271 - val_acc: 0.5686\n",
            "Epoch 7/50\n",
            "50000/50000 [==============================] - 10s 195us/step - loss: 1.2720 - acc: 0.5459 - val_loss: 1.1803 - val_acc: 0.5832\n",
            "Epoch 8/50\n",
            "50000/50000 [==============================] - 10s 196us/step - loss: 1.2208 - acc: 0.5644 - val_loss: 1.1065 - val_acc: 0.6076\n",
            "Epoch 9/50\n",
            "50000/50000 [==============================] - 10s 195us/step - loss: 1.1658 - acc: 0.5842 - val_loss: 1.0783 - val_acc: 0.6265\n",
            "Epoch 10/50\n",
            "50000/50000 [==============================] - 10s 196us/step - loss: 1.1221 - acc: 0.6015 - val_loss: 1.0750 - val_acc: 0.6196\n",
            "Epoch 11/50\n",
            "50000/50000 [==============================] - 10s 194us/step - loss: 1.0749 - acc: 0.6196 - val_loss: 0.9813 - val_acc: 0.6547\n",
            "Epoch 12/50\n",
            "50000/50000 [==============================] - 10s 194us/step - loss: 1.0319 - acc: 0.6350 - val_loss: 0.9986 - val_acc: 0.6483\n",
            "Epoch 13/50\n",
            "50000/50000 [==============================] - 10s 195us/step - loss: 0.9989 - acc: 0.6471 - val_loss: 0.9568 - val_acc: 0.6648\n",
            "Epoch 14/50\n",
            "50000/50000 [==============================] - 10s 194us/step - loss: 0.9606 - acc: 0.6599 - val_loss: 0.8730 - val_acc: 0.7004\n",
            "Epoch 15/50\n",
            "50000/50000 [==============================] - 10s 191us/step - loss: 0.9284 - acc: 0.6720 - val_loss: 0.9201 - val_acc: 0.6851\n",
            "Epoch 16/50\n",
            "50000/50000 [==============================] - 10s 196us/step - loss: 0.8978 - acc: 0.6827 - val_loss: 0.8381 - val_acc: 0.7087\n",
            "Epoch 17/50\n",
            "50000/50000 [==============================] - 10s 194us/step - loss: 0.8718 - acc: 0.6910 - val_loss: 0.8135 - val_acc: 0.7175\n",
            "Epoch 18/50\n",
            "50000/50000 [==============================] - 10s 193us/step - loss: 0.8466 - acc: 0.7026 - val_loss: 0.7814 - val_acc: 0.7310\n",
            "Epoch 19/50\n",
            "50000/50000 [==============================] - 10s 196us/step - loss: 0.8281 - acc: 0.7095 - val_loss: 0.7701 - val_acc: 0.7304\n",
            "Epoch 20/50\n",
            "50000/50000 [==============================] - 10s 194us/step - loss: 0.7983 - acc: 0.7216 - val_loss: 0.7549 - val_acc: 0.7403\n",
            "Epoch 21/50\n",
            "50000/50000 [==============================] - 10s 193us/step - loss: 0.7854 - acc: 0.7217 - val_loss: 1.0214 - val_acc: 0.6535\n",
            "Epoch 22/50\n",
            "50000/50000 [==============================] - 10s 195us/step - loss: 0.7638 - acc: 0.7313 - val_loss: 0.7547 - val_acc: 0.7393\n",
            "Epoch 23/50\n",
            "50000/50000 [==============================] - 10s 197us/step - loss: 0.7419 - acc: 0.7401 - val_loss: 0.7433 - val_acc: 0.7447\n",
            "Epoch 24/50\n",
            "50000/50000 [==============================] - 10s 194us/step - loss: 0.7304 - acc: 0.7435 - val_loss: 0.7216 - val_acc: 0.7553\n",
            "Epoch 25/50\n",
            "50000/50000 [==============================] - 10s 191us/step - loss: 0.7153 - acc: 0.7490 - val_loss: 0.7209 - val_acc: 0.7487\n",
            "Epoch 26/50\n",
            "50000/50000 [==============================] - 10s 192us/step - loss: 0.6962 - acc: 0.7543 - val_loss: 0.7029 - val_acc: 0.7574\n",
            "Epoch 27/50\n",
            "50000/50000 [==============================] - 10s 193us/step - loss: 0.6804 - acc: 0.7611 - val_loss: 0.6817 - val_acc: 0.7651\n",
            "Epoch 28/50\n",
            "50000/50000 [==============================] - 10s 193us/step - loss: 0.6658 - acc: 0.7666 - val_loss: 0.6711 - val_acc: 0.7668\n",
            "Epoch 29/50\n",
            "50000/50000 [==============================] - 10s 195us/step - loss: 0.6523 - acc: 0.7689 - val_loss: 0.6557 - val_acc: 0.7713\n",
            "Epoch 30/50\n",
            "50000/50000 [==============================] - 10s 194us/step - loss: 0.6359 - acc: 0.7738 - val_loss: 0.6497 - val_acc: 0.7724\n",
            "Epoch 31/50\n",
            "50000/50000 [==============================] - 10s 192us/step - loss: 0.6260 - acc: 0.7783 - val_loss: 0.6951 - val_acc: 0.7592\n",
            "Epoch 32/50\n",
            "50000/50000 [==============================] - 10s 191us/step - loss: 0.6168 - acc: 0.7792 - val_loss: 0.6450 - val_acc: 0.7760\n",
            "Epoch 33/50\n",
            "50000/50000 [==============================] - 10s 193us/step - loss: 0.5987 - acc: 0.7890 - val_loss: 0.6379 - val_acc: 0.7785\n",
            "Epoch 34/50\n",
            "50000/50000 [==============================] - 10s 192us/step - loss: 0.5855 - acc: 0.7945 - val_loss: 0.6237 - val_acc: 0.7849\n",
            "Epoch 35/50\n",
            "50000/50000 [==============================] - 10s 195us/step - loss: 0.5802 - acc: 0.7946 - val_loss: 0.6276 - val_acc: 0.7847\n",
            "Epoch 36/50\n",
            "50000/50000 [==============================] - 10s 193us/step - loss: 0.5642 - acc: 0.7995 - val_loss: 0.6441 - val_acc: 0.7758\n",
            "Epoch 37/50\n",
            "50000/50000 [==============================] - 10s 192us/step - loss: 0.5513 - acc: 0.8052 - val_loss: 0.6314 - val_acc: 0.7837\n",
            "Epoch 38/50\n",
            "50000/50000 [==============================] - 10s 193us/step - loss: 0.5437 - acc: 0.8080 - val_loss: 0.6177 - val_acc: 0.7879\n",
            "Epoch 39/50\n",
            "50000/50000 [==============================] - 10s 195us/step - loss: 0.5338 - acc: 0.8105 - val_loss: 0.6173 - val_acc: 0.7838\n",
            "Epoch 40/50\n",
            "50000/50000 [==============================] - 9s 189us/step - loss: 0.5239 - acc: 0.8143 - val_loss: 0.6070 - val_acc: 0.7881\n",
            "Epoch 41/50\n",
            "50000/50000 [==============================] - 10s 193us/step - loss: 0.5170 - acc: 0.8169 - val_loss: 0.6450 - val_acc: 0.7807\n",
            "Epoch 42/50\n",
            "50000/50000 [==============================] - 10s 194us/step - loss: 0.4997 - acc: 0.8217 - val_loss: 0.5924 - val_acc: 0.7946\n",
            "Epoch 43/50\n",
            "50000/50000 [==============================] - 10s 193us/step - loss: 0.4925 - acc: 0.8258 - val_loss: 0.6577 - val_acc: 0.7788\n",
            "Epoch 44/50\n",
            "50000/50000 [==============================] - 9s 190us/step - loss: 0.4812 - acc: 0.8269 - val_loss: 0.6294 - val_acc: 0.7851\n",
            "Epoch 45/50\n",
            "50000/50000 [==============================] - 10s 193us/step - loss: 0.4736 - acc: 0.8295 - val_loss: 0.5922 - val_acc: 0.7976\n",
            "Epoch 46/50\n",
            "50000/50000 [==============================] - 10s 191us/step - loss: 0.4649 - acc: 0.8335 - val_loss: 0.5878 - val_acc: 0.8012\n",
            "Epoch 47/50\n",
            "50000/50000 [==============================] - 10s 192us/step - loss: 0.4584 - acc: 0.8364 - val_loss: 0.5950 - val_acc: 0.7970\n",
            "Epoch 48/50\n",
            "50000/50000 [==============================] - 10s 192us/step - loss: 0.4512 - acc: 0.8385 - val_loss: 0.5892 - val_acc: 0.8011\n",
            "Epoch 49/50\n",
            "50000/50000 [==============================] - 10s 192us/step - loss: 0.4426 - acc: 0.8405 - val_loss: 0.5980 - val_acc: 0.7976\n",
            "Epoch 50/50\n",
            "50000/50000 [==============================] - 10s 194us/step - loss: 0.4344 - acc: 0.8431 - val_loss: 0.5888 - val_acc: 0.8007\n"
          ],
          "name": "stdout"
        },
        {
          "output_type": "execute_result",
          "data": {
            "text/plain": [
              "<keras.callbacks.History at 0x7f4183637438>"
            ]
          },
          "metadata": {
            "tags": []
          },
          "execution_count": 10
        }
      ]
    },
    {
      "cell_type": "code",
      "metadata": {
        "id": "dUohJ8pJ4Zg_",
        "colab_type": "code",
        "colab": {}
      },
      "source": [
        ""
      ],
      "execution_count": 0,
      "outputs": []
    }
  ]
}